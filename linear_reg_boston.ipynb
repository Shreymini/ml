{
 "cells": [
  {
   "cell_type": "code",
   "execution_count": 1,
   "metadata": {},
   "outputs": [],
   "source": [
    "import numpy as np\n",
    "import pandas as pd\n",
    "import matplotlib.pyplot as plt\n",
    "import random\n",
    "import sklearn\n",
    "from sklearn.datasets import load_boston"
   ]
  },
  {
   "cell_type": "code",
   "execution_count": 2,
   "metadata": {},
   "outputs": [
    {
     "name": "stdout",
     "output_type": "stream",
     "text": [
      ".. _boston_dataset:\n",
      "\n",
      "Boston house prices dataset\n",
      "---------------------------\n",
      "\n",
      "**Data Set Characteristics:**  \n",
      "\n",
      "    :Number of Instances: 506 \n",
      "\n",
      "    :Number of Attributes: 13 numeric/categorical predictive. Median Value (attribute 14) is usually the target.\n",
      "\n",
      "    :Attribute Information (in order):\n",
      "        - CRIM     per capita crime rate by town\n",
      "        - ZN       proportion of residential land zoned for lots over 25,000 sq.ft.\n",
      "        - INDUS    proportion of non-retail business acres per town\n",
      "        - CHAS     Charles River dummy variable (= 1 if tract bounds river; 0 otherwise)\n",
      "        - NOX      nitric oxides concentration (parts per 10 million)\n",
      "        - RM       average number of rooms per dwelling\n",
      "        - AGE      proportion of owner-occupied units built prior to 1940\n",
      "        - DIS      weighted distances to five Boston employment centres\n",
      "        - RAD      index of accessibility to radial highways\n",
      "        - TAX      full-value property-tax rate per $10,000\n",
      "        - PTRATIO  pupil-teacher ratio by town\n",
      "        - B        1000(Bk - 0.63)^2 where Bk is the proportion of blacks by town\n",
      "        - LSTAT    % lower status of the population\n",
      "        - MEDV     Median value of owner-occupied homes in $1000's\n",
      "\n",
      "    :Missing Attribute Values: None\n",
      "\n",
      "    :Creator: Harrison, D. and Rubinfeld, D.L.\n",
      "\n",
      "This is a copy of UCI ML housing dataset.\n",
      "https://archive.ics.uci.edu/ml/machine-learning-databases/housing/\n",
      "\n",
      "\n",
      "This dataset was taken from the StatLib library which is maintained at Carnegie Mellon University.\n",
      "\n",
      "The Boston house-price data of Harrison, D. and Rubinfeld, D.L. 'Hedonic\n",
      "prices and the demand for clean air', J. Environ. Economics & Management,\n",
      "vol.5, 81-102, 1978.   Used in Belsley, Kuh & Welsch, 'Regression diagnostics\n",
      "...', Wiley, 1980.   N.B. Various transformations are used in the table on\n",
      "pages 244-261 of the latter.\n",
      "\n",
      "The Boston house-price data has been used in many machine learning papers that address regression\n",
      "problems.   \n",
      "     \n",
      ".. topic:: References\n",
      "\n",
      "   - Belsley, Kuh & Welsch, 'Regression diagnostics: Identifying Influential Data and Sources of Collinearity', Wiley, 1980. 244-261.\n",
      "   - Quinlan,R. (1993). Combining Instance-Based and Model-Based Learning. In Proceedings on the Tenth International Conference of Machine Learning, 236-243, University of Massachusetts, Amherst. Morgan Kaufmann.\n",
      "\n"
     ]
    }
   ],
   "source": [
    "# We will run our regression on the boston house price dataset\n",
    "# Read this description\n",
    "boston=load_boston()\n",
    "print(boston.DESCR)\n",
    "#Load Dataset"
   ]
  },
  {
   "cell_type": "code",
   "execution_count": 3,
   "metadata": {},
   "outputs": [
    {
     "name": "stdout",
     "output_type": "stream",
     "text": [
      "<class 'numpy.ndarray'>\n",
      "<class 'numpy.ndarray'>\n",
      "(506, 13) (506,)\n"
     ]
    }
   ],
   "source": [
    "#load the dataset\n",
    "X,y = load_boston(True)\n",
    "print(type(X))\n",
    "print(type(y))\n",
    "print(X.shape,y.shape)"
   ]
  },
  {
   "cell_type": "code",
   "execution_count": 4,
   "metadata": {},
   "outputs": [
    {
     "name": "stdout",
     "output_type": "stream",
     "text": [
      "[6.320e-03 1.800e+01 2.310e+00 0.000e+00 5.380e-01 6.575e+00 6.520e+01\n",
      " 4.090e+00 1.000e+00 2.960e+02 1.530e+01 3.969e+02 4.980e+00]\n",
      "[24.]\n",
      "(506, 13) (506, 1)\n"
     ]
    }
   ],
   "source": [
    "y=y.reshape((506,1))\n",
    "print(X[0])\n",
    "print(y[0])\n",
    "print(X.shape,y.shape)"
   ]
  },
  {
   "cell_type": "code",
   "execution_count": 5,
   "metadata": {},
   "outputs": [
    {
     "name": "stdout",
     "output_type": "stream",
     "text": [
      "506 13\n",
      "[6.320e-03 1.800e+01 2.310e+00 0.000e+00 5.380e-01 6.575e+00 6.520e+01\n",
      " 4.090e+00 1.000e+00 2.960e+02 1.530e+01 3.969e+02 4.980e+00]\n",
      "506 14\n",
      "[1.000e+00 6.320e-03 1.800e+01 2.310e+00 0.000e+00 5.380e-01 6.575e+00\n",
      " 6.520e+01 4.090e+00 1.000e+00 2.960e+02 1.530e+01 3.969e+02 4.980e+00]\n"
     ]
    }
   ],
   "source": [
    "#Add bias term in X\n",
    "m,n = X.shape\n",
    "print(m,n)\n",
    "print(X[0])\n",
    "#write your own\n",
    "X=np.insert(X,0,values=np.ones(m),axis=1)\n",
    "###\n",
    "m,n=X.shape\n",
    "print(m,n)\n",
    "print(X[0])"
   ]
  },
  {
   "cell_type": "code",
   "execution_count": 6,
   "metadata": {},
   "outputs": [
    {
     "name": "stdout",
     "output_type": "stream",
     "text": [
      "(506, 14) (506, 1)\n",
      "(404, 14) (404, 1)\n",
      "(102, 14) (102, 1)\n"
     ]
    }
   ],
   "source": [
    "#divide data into train,validate as 80%,20%\n",
    "train_start = 0\n",
    "train_end = int(.8*m)\n",
    "validtaion_start = int(.8*m)\n",
    "validation_end = int(1*m)\n",
    "X_train = X[train_start:train_end,:]\n",
    "y_train = y[train_start:train_end,:]\n",
    "X_validate = X[validtaion_start:validation_end,:]\n",
    "y_validate = y[validtaion_start:validation_end,:]\n",
    "\n",
    "print( X.shape,y.shape)\n",
    "print( X_train.shape,y_train.shape)\n",
    "print( X_validate.shape,y_validate.shape)\n",
    "\n",
    "assert X_train.shape[0]+X_validate.shape[0] == X.shape[0]\n",
    "assert y_train.shape[0]+y_validate.shape[0] == y.shape[0]"
   ]
  },
  {
   "cell_type": "code",
   "execution_count": 7,
   "metadata": {},
   "outputs": [
    {
     "data": {
      "text/plain": [
       "Text(0.5, 1.0, 'Prices vs Predicted prices')"
      ]
     },
     "execution_count": 7,
     "metadata": {},
     "output_type": "execute_result"
    },
    {
     "data": {
      "image/png": "[encoded data removed]",
      "text/plain": [
       "<Figure size 432x288 with 1 Axes>"
      ]
     },
     "metadata": {
      "needs_background": "light"
     },
     "output_type": "display_data"
    }
   ],
   "source": [
    "# a regression model from sklearn library\n",
    "from sklearn.linear_model import LinearRegression\n",
    "\n",
    "lm = LinearRegression()\n",
    "lm.fit(X_train,y_train.reshape(y_train.shape[0],))\n",
    "\n",
    "Y_pred = lm.predict(X_validate)\n",
    "\n",
    "plt.scatter(y_validate, Y_pred)\n",
    "plt.ylim(-10,70)\n",
    "plt.xlim(-10,70)\n",
    "plt.xlabel(\"Prices\")\n",
    "plt.ylabel(\"Predicted prices\")\n",
    "plt.title(\"Prices vs Predicted prices\")"
   ]
  },
  {
   "cell_type": "code",
   "execution_count": 12,
   "metadata": {
    "scrolled": true
   },
   "outputs": [],
   "source": [
    "\n",
    "def gradientDescent(X,y,theta,m,alpha,numIter):\n",
    "    i=0;cost_arr=[]\n",
    "    itr_arr=[]\n",
    "    n = X.shape[1]\n",
    "    cost_arr = np.zeros(numIter)\n",
    "    itr_arr =np.zeros(numIter)\n",
    "    for i in range(numIter):\n",
    "        itr_arr[i] = i\n",
    "        H = np.dot(X,theta)\n",
    "        Z = H - y\n",
    "        cost = sum(Z ** 2) *(1/2*m)\n",
    "        cost_arr[i] = cost\n",
    "        gradient = (np.sum(np.multiply(H,X),axis = 0)* (1/m)).reshape(n,1)\n",
    "        theta = theta - alpha * gradient\n",
    "    plt.plot(itr_arr,cost_arr)\n",
    "    plt.show()\n",
    "    return theta;\n",
    "\n"
   ]
  },
  {
   "cell_type": "code",
   "execution_count": 13,
   "metadata": {},
   "outputs": [
    {
     "data": {
      "image/png": "[encoded data removed]",
      "text/plain": [
       "<Figure size 432x288 with 1 Axes>"
      ]
     },
     "metadata": {
      "needs_background": "light"
     },
     "output_type": "display_data"
    }
   ],
   "source": [
    "\n",
    "theta = np.ones((n,1))\n",
    "\n",
    "alpha = 0.0000000147 #set alpha\n",
    "numIter = 2500 #set numIter\n",
    "#fit parameter vector theta\n",
    "theta = gradientDescent(X_train,y_train,theta,X_train.shape[0],alpha,numIter)\n",
    "#print(theta.shape)"
   ]
  },
  {
   "cell_type": "code",
   "execution_count": 10,
   "metadata": {},
   "outputs": [],
   "source": [
    "def predict(X,y,theta):\n",
    "    #write your own\n",
    "    y_pred = np.dot(X,theta)\n",
    "    return y_pred    "
   ]
  },
  {
   "cell_type": "code",
   "execution_count": 11,
   "metadata": {},
   "outputs": [
    {
     "data": {
      "text/plain": [
       "Text(0.5, 1.0, 'Prices vs Predicted prices')"
      ]
     },
     "execution_count": 11,
     "metadata": {},
     "output_type": "execute_result"
    },
    {
     "data": {
      "image/png": "[encoded data removed]",
      "text/plain": [
       "<Figure size 432x288 with 1 Axes>"
      ]
     },
     "metadata": {
      "needs_background": "light"
     },
     "output_type": "display_data"
    }
   ],
   "source": [
    "y_pred=predict(X_validate,y_validate,theta)\n",
    "plt.scatter(y_validate, y_pred)\n",
    "plt.ylim(-10,70)\n",
    "plt.xlim(-10,70)\n",
    "plt.xlabel(\"Prices\")\n",
    "plt.ylabel(\"Predicted prices\")\n",
    "plt.title(\"Prices vs Predicted prices\")"
   ]
  }
 ],
 "metadata": {
  "kernelspec": {
   "display_name": "Python 3",
   "language": "python",
   "name": "python3"
  },
  "language_info": {
   "codemirror_mode": {
    "name": "ipython",
    "version": 3
   },
   "file_extension": ".py",
   "mimetype": "text/x-python",
   "name": "python",
   "nbconvert_exporter": "python",
   "pygments_lexer": "ipython3",
   "version": "3.5.2"
  }
 },
 "nbformat": 4,
 "nbformat_minor": 2
}
