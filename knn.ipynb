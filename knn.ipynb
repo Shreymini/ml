{
 "cells": [
  {
   "cell_type": "code",
   "execution_count": 1,
   "metadata": {
    "collapsed": true
   },
   "outputs": [],
   "source": [
    "# Name: Deepak Gupta\n",
    "# Roll number : 167507\n",
    "# Program : KNN-Mean with on Digit dataset with varying K"
   ]
  },
  {
   "cell_type": "code",
   "execution_count": 2,
   "metadata": {
    "collapsed": true
   },
   "outputs": [],
   "source": [
    "import numpy as  np\n",
    "from sklearn.datasets import load_digits\n",
    "import matplotlib.pyplot as plt\n",
    "import operator"
   ]
  },
  {
   "cell_type": "code",
   "execution_count": 3,
   "metadata": {},
   "outputs": [
    {
     "name": "stdout",
     "output_type": "stream",
     "text": [
      "150 64\n"
     ]
    }
   ],
   "source": [
    "input_dataset=load_digits()\n",
    "x=input_dataset.data[:150]\n",
    "y=input_dataset.target[:150]\n",
    "print(x.shape[0],x.shape[1])\n",
    "k=10\n",
    "\n",
    "x_test = input_dataset.data[150:200]\n",
    "y_test = input_dataset.target[150:200]\n",
    "\n"
   ]
  },
  {
   "cell_type": "code",
   "execution_count": 4,
   "metadata": {},
   "outputs": [
    {
     "name": "stdout",
     "output_type": "stream",
     "text": [
      "150 64\n",
      "15\n"
     ]
    }
   ],
   "source": [
    "no_rows=x.shape[0]\n",
    "no_col=x.shape[1]\n",
    "print(no_rows, no_col)\n",
    "mean=[[0 for i in range(no_col)]for j in range(k)]\n",
    "interval=int(no_rows/k)\n",
    "print(interval)\n",
    "init=0\n",
    "for i in range(k):\n",
    "    mean[i]=x[init]\n",
    "    init=init+interval\n"
   ]
  },
  {
   "cell_type": "code",
   "execution_count": 5,
   "metadata": {
    "collapsed": true
   },
   "outputs": [],
   "source": [
    "def find_error(cluster_group, cluster_count):\n",
    "    error = 0\n",
    "    for i in range(k):\n",
    "        for j in range(cluster_count[i]):\n",
    "            if y[cluster_group[i][j]] != i:\n",
    "                error = error + 1\n",
    "    return error"
   ]
  },
  {
   "cell_type": "code",
   "execution_count": 6,
   "metadata": {
    "scrolled": false
   },
   "outputs": [
    {
     "name": "stdout",
     "output_type": "stream",
     "text": [
      "Number of sample input is : 150\n",
      "Number of test input is : 50\n",
      "Number of error classification in each value of K : \n",
      "[0, 0, 0, 1, 1, 1, 3, 1, 3, 4]\n"
     ]
    },
    {
     "data": {
      "image/png": "[encoded data removed]",
      "text/plain": [
       "<matplotlib.figure.Figure at 0x7fe8bdf73a90>"
      ]
     },
     "metadata": {},
     "output_type": "display_data"
    }
   ],
   "source": [
    "print(\"Number of sample input is : %d\" % no_rows)\n",
    "print(\"Number of test input is : %d\" % len(x_test))\n",
    "print(\"Number of error classification in each value of K : \")\n",
    "\n",
    "num_iter = 0\n",
    "max_k =10\n",
    "error1 = [0 for i in range(max_k)]\n",
    "for k in range(3,max_k):\n",
    "    for i in range(len(x_test)):\n",
    "        classification = [0 for x in range(10)]\n",
    "        distance = {}\n",
    "        for j in range(no_rows):\n",
    "            distance[j]=np.sum(np.subtract(x[j],x_test[i])**2)\n",
    "        sorted_dist = sorted(distance.items(), key = operator.itemgetter(1))\n",
    "#         print(sorted_dist)\n",
    "        t_itr = 0\n",
    "        for key in sorted_dist:\n",
    "            temp = key[0]\n",
    "#             print(temp,y[temp])\n",
    "            classification[y[temp]] = classification[y[temp]] + 1\n",
    "            t_itr = t_itr + 1\n",
    "            if t_itr == k:\n",
    "                break\n",
    "#         print(classification)\n",
    "        cluster = classification.index(max(classification))\n",
    "#         print( y[i], cluster)\n",
    "        if y_test[i] != cluster:\n",
    "            error1[k] = error1[k] + 1\n",
    "            \n",
    "print(error1) \n",
    "\n",
    "plt.plot(error1)\n",
    "plt.xlabel(\"Value of K\")\n",
    "plt.ylabel(\"Error\")\n",
    "plt.show()\n",
    "\n",
    "\n",
    "\n"
   ]
  },
  {
   "cell_type": "code",
   "execution_count": null,
   "metadata": {
    "collapsed": true
   },
   "outputs": [],
   "source": []
  }
 ],
 "metadata": {
  "kernelspec": {
   "display_name": "Python 3",
   "language": "python",
   "name": "python3"
  },
  "language_info": {
   "codemirror_mode": {
    "name": "ipython",
    "version": 3
   },
   "file_extension": ".py",
   "mimetype": "text/x-python",
   "name": "python",
   "nbconvert_exporter": "python",
   "pygments_lexer": "ipython3",
   "version": "3.6.7"
  }
 },
 "nbformat": 4,
 "nbformat_minor": 2
}
