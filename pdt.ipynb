{
 "cells": [
  {
   "cell_type": "code",
   "execution_count": 88,
   "metadata": {},
   "outputs": [],
   "source": [
    "#name: Deepak Gupta\n",
    "#roll no: 167507\n",
    "\n",
    "import numpy as np\n",
    "import pandas as pd\n",
    "import matplotlib.pylab as plt\n",
    "from sklearn import datasets\n",
    "from PIL import Image,ImageDraw,ImageFont\n",
    "\n",
    "# font =ImageFont.truetype(\"fontfamily.ttf\",size=20)\n"
   ]
  },
  {
   "cell_type": "code",
   "execution_count": 89,
   "metadata": {},
   "outputs": [
    {
     "name": "stdout",
     "output_type": "stream",
     "text": [
      "[0 0 0 0 0 0 0 0 0 0 0 0 0 0 0 0 0 0 0 0 0 0 0 0 0 0 0 0 0 0 0 0 0 0 0 0 0\n",
      " 0 0 0 0 0 0 0 0 0 0 0 0 0 1 1 1 1 1 1 1 1 1 1 1 1 1 1 1 1 1 1 1 1 1 1 1 1\n",
      " 1 1 1 1 1 1 1 1 1 1 1 1 1 1 1 1 1 1 1 1 1 1 1 1 1 1 2 2 2 2 2 2 2 2 2 2 2\n",
      " 2 2 2 2 2 2 2 2 2 2 2 2 2 2 2 2 2 2 2 2 2 2 2 2 2 2 2 2 2 2 2 2 2 2 2 2 2\n",
      " 2 2]\n",
      "(150, 4)\n",
      "['sepal length (cm)', 'sepal width (cm)', 'petal length (cm)', 'petal width (cm)']\n"
     ]
    }
   ],
   "source": [
    "iris = datasets.load_iris()\n",
    "X = iris.data\n",
    "Y = iris.target\n",
    "print(Y)\n",
    "print(X.shape)\n",
    "Attr = (iris.feature_names)\n",
    "print(Attr)"
   ]
  },
  {
   "cell_type": "code",
   "execution_count": 90,
   "metadata": {},
   "outputs": [
    {
     "name": "stdout",
     "output_type": "stream",
     "text": [
      "[[ 5.1  3.5  1.4  0.2]\n",
      " [ 4.9  3.   1.4  0.2]\n",
      " [ 4.7  3.2  1.3  0.2]\n",
      " [ 4.6  3.1  1.5  0.2]\n",
      " [ 5.   3.6  1.4  0.2]]\n",
      "[[ 6.  4.  2.  1.]\n",
      " [ 5.  4.  2.  1.]\n",
      " [ 5.  4.  2.  1.]\n",
      " [ 5.  4.  2.  1.]\n",
      " [ 6.  4.  2.  1.]]\n",
      "<class 'numpy.ndarray'>\n",
      "<class 'numpy.ndarray'>\n"
     ]
    }
   ],
   "source": [
    "# print(X)\n",
    "#translate values into range i.e .2 .3 .... will be merged into 1 i.e. all values are in 0 to 1\n",
    "\n",
    "\n",
    "print(X[0:5,])\n",
    "for i in range(X.shape[0]):\n",
    "    for j in range(X.shape[1]):\n",
    "        X[i][j]=(float)((int)(X[i][j]+1))\n",
    "print(X[0:5,])\n",
    "\n",
    "print(type(X))\n",
    "print(type(Y))\n",
    "\n"
   ]
  },
  {
   "cell_type": "code",
   "execution_count": 91,
   "metadata": {
    "collapsed": true
   },
   "outputs": [],
   "source": [
    "def entropy(s):\n",
    "    res = 0\n",
    "    val, counts = np.unique(s, return_counts=True)\n",
    "    freq = counts.astype('float')/len(s)\n",
    "    for i in freq:\n",
    "        if i != 0.0:\n",
    "            res -= i*np.log2(i)\n",
    "    return res\n"
   ]
  },
  {
   "cell_type": "code",
   "execution_count": 92,
   "metadata": {
    "collapsed": true
   },
   "outputs": [],
   "source": [
    "def gain(s,a):\n",
    "    #res = entropy(s)\n",
    "    res=0;\n",
    "    val, counts = np.unique(a, return_counts=True)\n",
    "    freq = counts.astype('float')/len(a)\n",
    "    \n",
    "    for i, j in zip(freq, val):\n",
    "        entr = entropy(s[a == j])\n",
    "#         print(\"Entropy of %s is %f\" % (str(j),entr))\n",
    "#         res -= i*entr\n",
    "        res += i*entr\n",
    "    return res"
   ]
  },
  {
   "cell_type": "code",
   "execution_count": 93,
   "metadata": {
    "collapsed": true
   },
   "outputs": [],
   "source": [
    "def numberOfClass(s):\n",
    "    return len(set(s))"
   ]
  },
  {
   "cell_type": "code",
   "execution_count": 94,
   "metadata": {
    "collapsed": true
   },
   "outputs": [],
   "source": [
    "def partition(a):\n",
    "    return {c: (a==c).nonzero()[0] for c in np.unique(a)}"
   ]
  },
  {
   "cell_type": "code",
   "execution_count": 95,
   "metadata": {},
   "outputs": [],
   "source": [
    "def split(x,y):\n",
    "#     print(\"split ----> start\")\n",
    "    if numberOfClass(y) == 1: # no need to classifiy all values are same.\n",
    "#         print(\"---->NO gain identification\")\n",
    "        return y\n",
    "    \n",
    "#     gain_attr = np.array([gain(y, x_attr) for x_attr in x.T])\n",
    "#     print(\"----------GAINS-----------\")\n",
    "#     print(Attr)\n",
    "#     print(gain_attr)\n",
    "\n",
    "    entropy_y = entropy(y)\n",
    "    entropy_attr = np.array([gain(y, x_attr) for x_attr in np.transpose(x)]) #x.T\n",
    "    \n",
    "    gain_attr = np.zeros(len(entropy_attr))\n",
    "    print(\"----------Entropy of Attribute-----------\")\n",
    "    print(Attr)\n",
    "    print(entropy_attr)\n",
    "    \n",
    "    for i in range(len(entropy_attr)):\n",
    "        gain_attr[i]=(entropy_y-entropy_attr[i])\n",
    "    \n",
    "    print(\"----------GAINS-----------\")\n",
    "    print(Attr)\n",
    "    print(gain_attr)\n",
    "    \n",
    "    \n",
    "    max_gain_attr = np.argmax(gain_attr)\n",
    "    print(\"selected attribute having max gain: %s\" % Attr[max_gain_attr])\n",
    "    print()\n",
    "    \n",
    "    if np.all(gain_attr < 1e-6):\n",
    "#         print(\"---->NO max gain identification\")\n",
    "        return y\n",
    "    \n",
    "    partition_set = partition(x[:, max_gain_attr])\n",
    "    #print(partition_set)\n",
    "    \n",
    "    res = {}\n",
    "    \n",
    "#     print(\"split -----> end\")\n",
    "#     print(partition_set.items())\n",
    "    for i,j in partition_set.items():\n",
    "        y_subset = y.take(j, axis = 0)\n",
    "        x_subset = x.take(j, axis = 0)\n",
    "        \n",
    "        #print(y_subset)\n",
    "        #print(x_subset)\n",
    "        temp = split(x_subset, y_subset)\n",
    "#         print(temp)\n",
    "        res[\"%s = %s\" % (Attr[max_gain_attr], i)] = temp\n",
    "#     res[\"x_%d = %s\" % (max_gain_attr, i)] = temp\n",
    "\n",
    "    return res\n",
    "    "
   ]
  },
  {
   "cell_type": "code",
   "execution_count": 96,
   "metadata": {
    "collapsed": true
   },
   "outputs": [],
   "source": [
    "def isLeaf(elem):\n",
    "    if type(elem) is np.ndarray:\n",
    "        return True\n",
    "    else:\n",
    "        return False"
   ]
  },
  {
   "cell_type": "code",
   "execution_count": 97,
   "metadata": {},
   "outputs": [],
   "source": [
    "def printNode(tree):\n",
    "#     if istype()\n",
    "#     print(type(tree))\n",
    "    for elem in tree:\n",
    "#         temp = elem\n",
    "#         temp += (\"-->\")\n",
    "#         print(temp)\n",
    "        print(elem)\n",
    "#         print(type(tree[elem]))\n",
    "        if isLeaf(tree[elem]) :\n",
    "            print(tree[elem][0])\n",
    "#             temp += (tree[elem][0])\n",
    "            pass\n",
    "        else:\n",
    "            printNode(tree[elem])\n",
    "#             temp += (printNode(tree[elem]))\n",
    "#         temp += (\"\\n\")\n",
    "#     return temp"
   ]
  },
  {
   "cell_type": "code",
   "execution_count": 98,
   "metadata": {},
   "outputs": [],
   "source": [
    "def getwidth(tree):\n",
    "    if type(tree) is np.ndarray:\n",
    "        return 1\n",
    "    width = 0\n",
    "    for elem in tree:\n",
    "        if isLeaf(tree[elem]):\n",
    "            width += 1\n",
    "        else:\n",
    "            width += getwidth(tree[elem])\n",
    "    return width\n",
    "        "
   ]
  },
  {
   "cell_type": "code",
   "execution_count": 99,
   "metadata": {
    "collapsed": true
   },
   "outputs": [],
   "source": [
    "def getdepth(tree):\n",
    "    if type(tree) is np.ndarray:\n",
    "        return 0\n",
    "    depth = 0\n",
    "    temp = []\n",
    "    for elem in tree:\n",
    "        if isLeaf(tree[elem]):\n",
    "            depth += 1\n",
    "        else:\n",
    "            temp.append(getdepth(tree[elem]))\n",
    "            depth += np.max(temp)\n",
    "                \n",
    "    return depth\n"
   ]
  },
  {
   "cell_type": "code",
   "execution_count": 103,
   "metadata": {
    "collapsed": true
   },
   "outputs": [],
   "source": [
    "def drawtree(tree,jpeg='tree.jpg'):\n",
    "    w=getwidth(tree)*500\n",
    "    h=getdepth(tree)*500+150\n",
    "    print(w)\n",
    "    print(h)\n",
    "\n",
    "    img=Image.new('RGB',(w,h),(255,255,255))\n",
    "    draw=ImageDraw.Draw(img)\n",
    "\n",
    "    drawnode(draw,tree,w/2,200)\n",
    "    str1 = [chr(97+3),chr(97+4),chr(97+4),chr(97+15),chr(97),chr(97+10)]\n",
    "    str1=''.join(str1)\n",
    "    draw.text((w/2+200,100),str(str1),(0,0,0))\n",
    "    img.save(jpeg,'JPEG')\n"
   ]
  },
  {
   "cell_type": "code",
   "execution_count": 104,
   "metadata": {},
   "outputs": [],
   "source": [
    "def drawnode(draw,tree,x,y):\n",
    "    if isLeaf(tree):\n",
    "        draw.text((x-20,y-10),str(tree[0]),(0,0,0))\n",
    "        return \n",
    "    \n",
    "    w = []\n",
    "    for elem in tree:\n",
    "#         print(elem)\n",
    "        w.append(getwidth(tree[elem])*10)\n",
    "\n",
    "    print(w)\n",
    "    avg_dim = np.sum(w)\n",
    "    x_coord = []\n",
    "    y_coord = []\n",
    "    text_offset =20\n",
    "    text_width = len(elem)/2\n",
    "\n",
    "    x_coord.append(x-(avg_dim/2))\n",
    "    y_coord.append(y+200)\n",
    "    \n",
    "    for i in range(0,len(w)-1):        \n",
    "        x_coord.append(x_coord[i]+w[i]*25+(avg_dim/(len(w))) )\n",
    "        y_coord.append(y+200)\n",
    "    print(x_coord)\n",
    " \n",
    "    \n",
    "    for i in range(len(w)):\n",
    "        draw.line((x,y,x_coord[i], y_coord[i]), fill=(0,0,255),width = 4)\n",
    "        draw.text((x_coord[i]-50, y_coord[i]),str(list(tree.keys())[i]),(0,0,0))\n",
    "        draw.line((x_coord[i], y_coord[i]+text_offset,x_coord[i],y_coord[i]+50), fill=(255,0,0), width = 4)\n",
    "        y_coord[i] += 50+text_offset\n",
    "        \n",
    "    # Draw the level 2 and remaining\n",
    "    c = 0 \n",
    "    for elem in tree:\n",
    "        if isLeaf(tree[elem]):\n",
    "            draw.text((x_coord[c], y_coord[c]),str(tree[elem][0]),(0,0,0))\n",
    "        else:\n",
    "            drawnode(draw,tree[elem],x_coord[c],y_coord[c]-text_offset)\n",
    "        c += 1\n",
    "        "
   ]
  },
  {
   "cell_type": "code",
   "execution_count": 105,
   "metadata": {
    "scrolled": false
   },
   "outputs": [
    {
     "name": "stdout",
     "output_type": "stream",
     "text": [
      "Entropy of training data set 1.584963 \n",
      "----------Entropy of Attribute-----------\n",
      "['sepal length (cm)', 'sepal width (cm)', 'petal length (cm)', 'petal width (cm)']\n",
      "[ 1.01906063  1.31004109  0.2408649   0.41467047]\n",
      "----------GAINS-----------\n",
      "['sepal length (cm)', 'sepal width (cm)', 'petal length (cm)', 'petal width (cm)']\n",
      "[ 0.56590187  0.27492141  1.3440976   1.17029203]\n",
      "selected attribute having max gain: petal length (cm)\n",
      "\n",
      "----------Entropy of Attribute-----------\n",
      "['sepal length (cm)', 'sepal width (cm)', 'petal length (cm)', 'petal width (cm)']\n",
      "[ 0.49428791  0.58110341  0.58301942  0.51437016]\n",
      "----------GAINS-----------\n",
      "['sepal length (cm)', 'sepal width (cm)', 'petal length (cm)', 'petal width (cm)']\n",
      "[ 0.08873151  0.00191601  0.          0.06864926]\n",
      "selected attribute having max gain: sepal length (cm)\n",
      "\n",
      "----------Entropy of Attribute-----------\n",
      "['sepal length (cm)', 'sepal width (cm)', 'petal length (cm)', 'petal width (cm)']\n",
      "[ 0.33729007  0.29312225  0.33729007  0.        ]\n",
      "----------GAINS-----------\n",
      "['sepal length (cm)', 'sepal width (cm)', 'petal length (cm)', 'petal width (cm)']\n",
      "[ 0.          0.04416782  0.          0.33729007]\n",
      "selected attribute having max gain: petal width (cm)\n",
      "\n",
      "----------Entropy of Attribute-----------\n",
      "['sepal length (cm)', 'sepal width (cm)', 'petal length (cm)', 'petal width (cm)']\n",
      "[ 0.63430955  0.62867694  0.63430955  0.63430955]\n",
      "----------GAINS-----------\n",
      "['sepal length (cm)', 'sepal width (cm)', 'petal length (cm)', 'petal width (cm)']\n",
      "[ 0.          0.00563261  0.          0.        ]\n",
      "selected attribute having max gain: sepal width (cm)\n",
      "\n",
      "----------Entropy of Attribute-----------\n",
      "['sepal length (cm)', 'sepal width (cm)', 'petal length (cm)', 'petal width (cm)']\n",
      "[ 0.56650951  0.56650951  0.56650951  0.56650951]\n",
      "----------GAINS-----------\n",
      "['sepal length (cm)', 'sepal width (cm)', 'petal length (cm)', 'petal width (cm)']\n",
      "[ 0.  0.  0.  0.]\n",
      "selected attribute having max gain: sepal length (cm)\n",
      "\n",
      "----------Entropy of Attribute-----------\n",
      "['sepal length (cm)', 'sepal width (cm)', 'petal length (cm)', 'petal width (cm)']\n",
      "[ 0.72192809  0.72192809  0.72192809  0.72192809]\n",
      "----------GAINS-----------\n",
      "['sepal length (cm)', 'sepal width (cm)', 'petal length (cm)', 'petal width (cm)']\n",
      "[ 0.  0.  0.  0.]\n",
      "selected attribute having max gain: sepal length (cm)\n",
      "\n",
      "----------Entropy of Attribute-----------\n",
      "['sepal length (cm)', 'sepal width (cm)', 'petal length (cm)', 'petal width (cm)']\n",
      "[ 0.29698586  0.31421019  0.31599713  0.24278979]\n",
      "----------GAINS-----------\n",
      "['sepal length (cm)', 'sepal width (cm)', 'petal length (cm)', 'petal width (cm)']\n",
      "[ 0.01901127  0.00178695  0.          0.07320734]\n",
      "selected attribute having max gain: petal width (cm)\n",
      "\n",
      "----------Entropy of Attribute-----------\n",
      "['sepal length (cm)', 'sepal width (cm)', 'petal length (cm)', 'petal width (cm)']\n",
      "[ 0.50162819  0.55330643  0.56650951  0.56650951]\n",
      "----------GAINS-----------\n",
      "['sepal length (cm)', 'sepal width (cm)', 'petal length (cm)', 'petal width (cm)']\n",
      "[ 0.06488132  0.01320308  0.          0.        ]\n",
      "selected attribute having max gain: sepal length (cm)\n",
      "\n",
      "----------Entropy of Attribute-----------\n",
      "['sepal length (cm)', 'sepal width (cm)', 'petal length (cm)', 'petal width (cm)']\n",
      "[ 0.68403844  0.64576391  0.68403844  0.68403844]\n",
      "----------GAINS-----------\n",
      "['sepal length (cm)', 'sepal width (cm)', 'petal length (cm)', 'petal width (cm)']\n",
      "[ 0.          0.03827452  0.          0.        ]\n",
      "selected attribute having max gain: sepal width (cm)\n",
      "\n",
      "----------Entropy of Attribute-----------\n",
      "['sepal length (cm)', 'sepal width (cm)', 'petal length (cm)', 'petal width (cm)']\n",
      "[ 0.54356444  0.54356444  0.54356444  0.54356444]\n",
      "----------GAINS-----------\n",
      "['sepal length (cm)', 'sepal width (cm)', 'petal length (cm)', 'petal width (cm)']\n",
      "[ 0.  0.  0.  0.]\n",
      "selected attribute having max gain: sepal length (cm)\n",
      "\n",
      "----------Entropy of Attribute-----------\n",
      "['sepal length (cm)', 'sepal width (cm)', 'petal length (cm)', 'petal width (cm)']\n",
      "[ 0.91829583  0.91829583  0.91829583  0.91829583]\n",
      "----------GAINS-----------\n",
      "['sepal length (cm)', 'sepal width (cm)', 'petal length (cm)', 'petal width (cm)']\n",
      "[ 0.  0.  0.  0.]\n",
      "selected attribute having max gain: sepal length (cm)\n",
      "\n",
      "{'petal length (cm) = 2.0': array([0, 0, 0, 0, 0, 0, 0, 0, 0, 0, 0, 0, 0, 0, 0, 0, 0, 0, 0, 0, 0, 0, 0,\n",
      "       0, 0, 0, 0, 0, 0, 0, 0, 0, 0, 0, 0, 0, 0, 0, 0, 0, 0, 0, 0, 0, 0, 0,\n",
      "       0, 0, 0, 0]), 'petal length (cm) = 4.0': array([1, 1, 1, 1, 1, 1, 1, 1, 1, 1, 1]), 'petal length (cm) = 5.0': {'sepal length (cm) = 5.0': array([2]), 'sepal length (cm) = 6.0': {'petal width (cm) = 2.0': array([1, 1, 1, 1, 1, 1, 1, 1, 1, 1, 1, 1, 1, 1, 1]), 'petal width (cm) = 3.0': array([2])}, 'sepal length (cm) = 7.0': {'sepal width (cm) = 3.0': array([1, 1, 1, 1, 1, 1, 1, 1, 1, 1, 1, 1, 1, 2, 2]), 'sepal width (cm) = 4.0': array([1, 1, 1, 1, 1, 1, 1, 1, 2, 2])}, 'sepal length (cm) = 8.0': array([1])}, 'petal length (cm) = 6.0': {'petal width (cm) = 2.0': {'sepal length (cm) = 6.0': array([2, 2, 2]), 'sepal length (cm) = 7.0': {'sepal width (cm) = 3.0': array([1, 2, 2, 2, 2, 2, 2, 2]), 'sepal width (cm) = 4.0': array([1, 2, 2])}, 'sepal length (cm) = 8.0': array([2])}, 'petal width (cm) = 3.0': array([2, 2, 2, 2, 2, 2, 2, 2, 2, 2, 2, 2, 2, 2, 2, 2, 2, 2, 2, 2])}, 'petal length (cm) = 7.0': array([2, 2, 2, 2, 2, 2, 2, 2, 2, 2, 2])}\n",
      "14\n",
      "15\n",
      "7000\n",
      "7650\n",
      "[10, 10, 60, 50, 10]\n",
      "[3430.0, 3708.0, 3986.0, 5514.0, 6792.0]\n",
      "[10, 20, 20, 10]\n",
      "[3956.0, 4221.0, 4736.0, 5251.0]\n",
      "[10, 10]\n",
      "[4211.0, 4471.0]\n",
      "[10, 10]\n",
      "[4726.0, 4986.0]\n",
      "[40, 10]\n",
      "[5489.0, 6514.0]\n",
      "[10, 20, 10]\n",
      "[5469.0, 5732.333333333333, 6245.6666666666661]\n",
      "[10, 10]\n",
      "[5722.333333333333, 5982.333333333333]\n"
     ]
    }
   ],
   "source": [
    "print(\"Entropy of training data set %f \" % entropy(Y))\n",
    "tree = split(X,Y)\n",
    "# print(type(tree))\n",
    "print(tree)\n",
    "# print(tree['Outlook = Rain'])\n",
    "\n",
    "# (printNode(tree))\n",
    "\n",
    "print(getwidth(tree))\n",
    "print(getdepth(tree))\n",
    "drawtree(tree)"
   ]
  },
  {
   "cell_type": "code",
   "execution_count": null,
   "metadata": {
    "collapsed": true
   },
   "outputs": [],
   "source": []
  },
  {
   "cell_type": "code",
   "execution_count": null,
   "metadata": {
    "collapsed": true
   },
   "outputs": [],
   "source": []
  },
  {
   "cell_type": "code",
   "execution_count": null,
   "metadata": {
    "collapsed": true
   },
   "outputs": [],
   "source": []
  }
 ],
 "metadata": {
  "anaconda-cloud": {},
  "kernelspec": {
   "display_name": "Python 3",
   "language": "python",
   "name": "python3"
  },
  "language_info": {
   "codemirror_mode": {
    "name": "ipython",
    "version": 3
   },
   "file_extension": ".py",
   "mimetype": "text/x-python",
   "name": "python",
   "nbconvert_exporter": "python",
   "pygments_lexer": "ipython3",
   "version": "3.6.7"
  }
 },
 "nbformat": 4,
 "nbformat_minor": 1
}
