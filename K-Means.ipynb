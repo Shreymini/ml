{
 "cells": [
  {
   "cell_type": "code",
   "execution_count": 1,
   "metadata": {},
   "outputs": [],
   "source": [
    "import numpy as np\n",
    "import matplotlib.pyplot as plt\n",
    "import matplotlib.animation as animation"
   ]
  },
  {
   "cell_type": "code",
   "execution_count": 2,
   "metadata": {},
   "outputs": [],
   "source": [
    "def load_dataset(name):\n",
    "    return np.loadtxt(name)"
   ]
  },
  {
   "cell_type": "code",
   "execution_count": 3,
   "metadata": {},
   "outputs": [],
   "source": [
    "def euclidean(a,b):\n",
    "    return np.linalg.norm(a-b)"
   ]
  },
  {
   "cell_type": "code",
   "execution_count": 4,
   "metadata": {},
   "outputs": [],
   "source": [
    "def kmeans(k,dataset,epsilon=0):\n",
    "    history_centroids = []\n",
    "    num_instances,num_features = dataset.shape\n",
    "    \n",
    "    #Choose k centroids randomly\n",
    "    centroids = dataset[np.random.randint(0,num_instances-1,k)]\n",
    "    \n",
    "    history_centroids.append(centroids)\n",
    "    \n",
    "    old_centroids = np.zeros(centroids.shape)\n",
    "    \n",
    "    belongs_to = np.zeros((num_instances,1))\n",
    "    \n",
    "    norm = euclidean(centroids,old_centroids)\n",
    "    iteration = 0\n",
    "    while norm > epsilon:\n",
    "        iteration += 1\n",
    "        norm = euclidean(centroids,old_centroids)\n",
    "        \n",
    "        for instance_index,instance in enumerate(dataset):\n",
    "            \n",
    "            dist_vect = np.zeros((k,1))\n",
    "            \n",
    "            for centroid_index,centroid in enumerate(centroids):\n",
    "                dist_vect[centroid_index] = euclidean(centroid,instance)\n",
    "                \n",
    "            belongs_to[instance_index] = np.argmin(dist_vect)    \n",
    "    \n",
    "        temp_centroids = np.zeros((k,num_features))\n",
    "        for index in range(len(centroids)):\n",
    "            instance_close = [i for i in range(len(belongs_to)) if belongs_to[i]==index]\n",
    "            centroid = np.mean(dataset[instance_close],axis=0)\n",
    "            temp_centroids[index,:] = centroid\n",
    "        \n",
    "        old_centroids = centroids\n",
    "        centroids = temp_centroids\n",
    "        history_centroids.append(temp_centroids)\n",
    "        \n",
    "    return history_centroids,centroids,belongs_to        "
   ]
  },
  {
   "cell_type": "code",
   "execution_count": 5,
   "metadata": {},
   "outputs": [],
   "source": [
    "def plot(dataset,belongs_to):\n",
    "    colors = ['r','g']\n",
    "    fig,ax = plt.subplots()\n",
    "    \n",
    "    for index in range(len(dataset[0])):\n",
    "        instance_close = [i for i in range(len(belongs_to)) if belongs_to[i]==index]\n",
    "        \n",
    "        for instance_index in instance_close:\n",
    "            ax.plot(dataset[instance_index][0],dataset[instance_index][1],(colors[index]+'o'))\n",
    "    plt.show()"
   ]
  },
  {
   "cell_type": "code",
   "execution_count": 6,
   "metadata": {},
   "outputs": [
    {
     "data": {
      "image/png": "[encoded data removed]",
      "text/plain": [
       "<Figure size 432x288 with 1 Axes>"
      ]
     },
     "metadata": {
      "needs_background": "light"
     },
     "output_type": "display_data"
    }
   ],
   "source": [
    "dataset = load_dataset('/home/taha/Documents/ML/durudataset.txt')\n",
    "history_centroids,centroids,belongs_to = kmeans(2,dataset)\n",
    "plot(dataset,belongs_to)"
   ]
  }
 ],
 "metadata": {
  "kernelspec": {
   "display_name": "Python 3",
   "language": "python",
   "name": "python3"
  },
  "language_info": {
   "codemirror_mode": {
    "name": "ipython",
    "version": 3
   },
   "file_extension": ".py",
   "mimetype": "text/x-python",
   "name": "python",
   "nbconvert_exporter": "python",
   "pygments_lexer": "ipython3",
   "version": "3.6.7"
  }
 },
 "nbformat": 4,
 "nbformat_minor": 2
}
